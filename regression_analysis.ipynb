{
 "cells": [
  {
   "cell_type": "markdown",
   "metadata": {},
   "source": [
    "### Tutorial 4: Regression Analysis using Python statsmodel \n",
    "\n",
    "Regression analysis is a statistical technique used to model and analyze relationships between variables. It allows us to quantify the impact of one or more independent variables on a dependent variable and is widely used in various fields such as economics, biology, and social sciences.\n",
    "\n",
    "This tutorial focuses on implementing regression models with the Python library `statsmodels`, complemented by visualizations using `seaborn` to effectively interpret and communicate the results.\n",
    "\n",
    "##### Terminology\n",
    "\n",
    "- **Independent Variable(s)**: The predictors or factors that explain variations.\n",
    "- **Dependent Variable**: The outcome being modeled or predicted.\n",
    "\n"
   ]
  },
  {
   "cell_type": "code",
   "execution_count": 17,
   "metadata": {},
   "outputs": [],
   "source": [
    "import sqlite3\n",
    "import pandas as pd\n",
    "\n",
    "db_path = './database/mmdt.db3'\n",
    "\n",
    "conn = sqlite3.connect(db_path)\n",
    "query = \"\"\"\n",
    "        SELECT \n",
    "                p.ID, \n",
    "                COALESCE(p.Gender, b.Gender) as gender,\n",
    "                COALESCE(p.BOD, b.BOD) as birth_year,\n",
    "                COALESCE(p.Pre_Knowledge_Data, b.Pre_Knowledge_Data) as pre_score,\n",
    "                COALESCE(p.Device_used, b.Device_used) as device_used,\n",
    "                COALESCE(a.Rate, '0%') as attendance\n",
    "                FROM participants as p\n",
    "                LEFT JOIN bhutan as b                \n",
    "                ON p.ID = b.ID\n",
    "                LEFT JOIN attendance as a\n",
    "                ON LOWER(a.ID) = LOWER(p.ID);\n",
    "        \"\"\"\n",
    "\n",
    "df = pd.read_sql_query(query, conn)\n",
    "conn.close()\n",
    "\n",
    "df['attendance'] = df['attendance'].apply(lambda data:data.replace('%',''))\n",
    "df['attendance'] =  df['attendance'].astype('float64')\n",
    "df['gender'] = df['gender'].str.strip()\n",
    "df['gender'] = df['gender'].str.title()\n",
    "df['gender'] = df['gender'].apply(lambda sex: 'Male' if sex == 'Man' else sex)\n",
    "\n",
    "df['birth_year'] = df['birth_year'].astype('category')\n",
    "df['birth_year'] = df['birth_year'].apply(lambda data: str(data).split('/')[2] if '/' in str(data) else data)\n",
    "df['birth_year'] = df['birth_year'].astype('int')\n",
    "df['age'] = 2024-df['birth_year']"
   ]
  },
  {
   "cell_type": "code",
   "execution_count": 18,
   "metadata": {},
   "outputs": [
    {
     "data": {
      "text/html": [
       "<div>\n",
       "<style scoped>\n",
       "    .dataframe tbody tr th:only-of-type {\n",
       "        vertical-align: middle;\n",
       "    }\n",
       "\n",
       "    .dataframe tbody tr th {\n",
       "        vertical-align: top;\n",
       "    }\n",
       "\n",
       "    .dataframe thead th {\n",
       "        text-align: right;\n",
       "    }\n",
       "</style>\n",
       "<table border=\"1\" class=\"dataframe\">\n",
       "  <thead>\n",
       "    <tr style=\"text-align: right;\">\n",
       "      <th></th>\n",
       "      <th>age</th>\n",
       "      <th>pre_score</th>\n",
       "      <th>attendance</th>\n",
       "      <th>device_count</th>\n",
       "    </tr>\n",
       "  </thead>\n",
       "  <tbody>\n",
       "    <tr>\n",
       "      <th>0</th>\n",
       "      <td>32</td>\n",
       "      <td>1.0</td>\n",
       "      <td>100.0</td>\n",
       "      <td>1</td>\n",
       "    </tr>\n",
       "    <tr>\n",
       "      <th>1</th>\n",
       "      <td>25</td>\n",
       "      <td>3.0</td>\n",
       "      <td>100.0</td>\n",
       "      <td>1</td>\n",
       "    </tr>\n",
       "    <tr>\n",
       "      <th>2</th>\n",
       "      <td>38</td>\n",
       "      <td>2.0</td>\n",
       "      <td>100.0</td>\n",
       "      <td>1</td>\n",
       "    </tr>\n",
       "    <tr>\n",
       "      <th>3</th>\n",
       "      <td>27</td>\n",
       "      <td>1.0</td>\n",
       "      <td>83.0</td>\n",
       "      <td>2</td>\n",
       "    </tr>\n",
       "    <tr>\n",
       "      <th>4</th>\n",
       "      <td>25</td>\n",
       "      <td>1.0</td>\n",
       "      <td>50.0</td>\n",
       "      <td>1</td>\n",
       "    </tr>\n",
       "    <tr>\n",
       "      <th>...</th>\n",
       "      <td>...</td>\n",
       "      <td>...</td>\n",
       "      <td>...</td>\n",
       "      <td>...</td>\n",
       "    </tr>\n",
       "    <tr>\n",
       "      <th>95</th>\n",
       "      <td>25</td>\n",
       "      <td>3.0</td>\n",
       "      <td>0.0</td>\n",
       "      <td>1</td>\n",
       "    </tr>\n",
       "    <tr>\n",
       "      <th>96</th>\n",
       "      <td>24</td>\n",
       "      <td>2.0</td>\n",
       "      <td>0.0</td>\n",
       "      <td>1</td>\n",
       "    </tr>\n",
       "    <tr>\n",
       "      <th>97</th>\n",
       "      <td>27</td>\n",
       "      <td>0.0</td>\n",
       "      <td>100.0</td>\n",
       "      <td>1</td>\n",
       "    </tr>\n",
       "    <tr>\n",
       "      <th>98</th>\n",
       "      <td>25</td>\n",
       "      <td>1.0</td>\n",
       "      <td>100.0</td>\n",
       "      <td>1</td>\n",
       "    </tr>\n",
       "    <tr>\n",
       "      <th>99</th>\n",
       "      <td>25</td>\n",
       "      <td>1.0</td>\n",
       "      <td>75.0</td>\n",
       "      <td>1</td>\n",
       "    </tr>\n",
       "  </tbody>\n",
       "</table>\n",
       "<p>100 rows × 4 columns</p>\n",
       "</div>"
      ],
      "text/plain": [
       "    age  pre_score  attendance  device_count\n",
       "0    32        1.0       100.0             1\n",
       "1    25        3.0       100.0             1\n",
       "2    38        2.0       100.0             1\n",
       "3    27        1.0        83.0             2\n",
       "4    25        1.0        50.0             1\n",
       "..  ...        ...         ...           ...\n",
       "95   25        3.0         0.0             1\n",
       "96   24        2.0         0.0             1\n",
       "97   27        0.0       100.0             1\n",
       "98   25        1.0       100.0             1\n",
       "99   25        1.0        75.0             1\n",
       "\n",
       "[100 rows x 4 columns]"
      ]
     },
     "execution_count": 18,
     "metadata": {},
     "output_type": "execute_result"
    }
   ],
   "source": [
    "df['device_used'] = df['device_used'].str.strip().str.lower()\n",
    "df_split = df['device_used'].str.split(',', expand=True).reset_index(drop=True)\n",
    "df_split.columns = [f'device_{k}' for k in range(df_split.shape[1])]\n",
    "\n",
    "device_mapping = {\n",
    "    'my own computer': 'my own computer',\n",
    "    'mobile phone / table': 'mobile phone/tablet',\n",
    "    'a borrowed / shared computer': 'borrowed/shared computer',\n",
    "    'laptop': 'laptop',\n",
    "    'computer from my organization but i have access to install new tools': 'company provided computer',\n",
    "    'no need to request approval from it team': None,\n",
    "    'laptop provided from current job': 'company provided laptop'\n",
    "}\n",
    "for col in df_split.columns:\n",
    "    df_split[col] = df_split[col].str.strip()\n",
    "    df_split[col] = df_split[col].map(device_mapping)\n",
    "\n",
    "df_split['device_count'] = 3 - df_split.isna().sum(axis = 1)\n",
    "df_model = df[['age', 'pre_score', 'attendance']].copy()\n",
    "df_model['device_count'] = df_split['device_count']\n",
    "df_model.loc[df['age']<0, 'age'] = 2024-1983\n",
    "df_model\n",
    "\n"
   ]
  },
  {
   "cell_type": "code",
   "execution_count": 39,
   "metadata": {},
   "outputs": [
    {
     "data": {
      "image/png": "[encoded data removed]",
      "text/plain": [
       "<Figure size 1200x500 with 1 Axes>"
      ]
     },
     "metadata": {},
     "output_type": "display_data"
    }
   ],
   "source": [
    "import statsmodels.formula.api as stats\n",
    "import matplotlib.pyplot as plt\n",
    "import seaborn as sns\n",
    "\n",
    "plt.figure(figsize = (12,5))\n",
    "sns.scatterplot(data = df_model, x = 'age', y = 'attendance')\n",
    "sns.regplot(data = df_model, x = 'age', y = 'attendance')\n",
    "plt.show()\n",
    "\n"
   ]
  },
  {
   "cell_type": "code",
   "execution_count": 45,
   "metadata": {},
   "outputs": [],
   "source": [
    "import numpy as np\n",
    "\n",
    "model = stats.ols(\"attendance~age\", data = df_model).fit()\n",
    "intercept = model.params['Intercept']\n",
    "slope = model.params['age']\n",
    "\n",
    "ages = np.arange(20, 50)\n",
    "result_df = pd.DataFrame({'age':ages})\n",
    "y_pred = model.predict(result_df)\n",
    "y_pred_manual = intercept + slope*ages\n",
    "\n",
    "result_df['pred'] = y_pred\n",
    "result_df['pred_m'] = y_pred_manual\n",
    "result_df = result_df.round(3)\n",
    "\n"
   ]
  },
  {
   "cell_type": "code",
   "execution_count": 47,
   "metadata": {},
   "outputs": [
    {
     "name": "stdout",
     "output_type": "stream",
     "text": [
      "Intercept    37.214345\n",
      "age           1.305051\n",
      "pre_score     0.674835\n",
      "dtype: float64\n"
     ]
    }
   ],
   "source": [
    "model = stats.ols(\"attendance~age+pre_score\", data = df_model).fit()\n",
    "print(model.params)"
   ]
  },
  {
   "cell_type": "code",
   "execution_count": 48,
   "metadata": {},
   "outputs": [
    {
     "name": "stdout",
     "output_type": "stream",
     "text": [
      "Intercept        70.938393\n",
      "age:pre_score     0.125937\n",
      "dtype: float64\n"
     ]
    }
   ],
   "source": [
    "model = stats.ols(\"attendance~age:pre_score\", data = df_model).fit()\n",
    "print(model.params)"
   ]
  },
  {
   "cell_type": "code",
   "execution_count": 49,
   "metadata": {},
   "outputs": [
    {
     "name": "stdout",
     "output_type": "stream",
     "text": [
      "Intercept        96.556194\n",
      "age              -0.670465\n",
      "pre_score       -34.303688\n",
      "age:pre_score     1.171914\n",
      "dtype: float64\n"
     ]
    }
   ],
   "source": [
    "model = stats.ols(\"attendance~age*pre_score\", data = df_model).fit()\n",
    "print(model.params)"
   ]
  },
  {
   "cell_type": "markdown",
   "metadata": {},
   "source": [
    "## Hypothesis Testing with `statsmodels` for Attendance Prediction\n",
    "\n",
    "In this example, we have a dataset with the following variables:\n",
    "\n",
    "- **Independent Variables (X)**: \n",
    "  - `device_count`: Number of devices a student used for the training.\n",
    "  - `age`: Age of the student.\n",
    "  - `pre_score`: Pre-test score or some other relevant score before the main event.\n",
    "  \n",
    "- **Dependent Variable (Y)**: \n",
    "  - `attendance`: The attendance rate or count of a student attending an event or class.\n",
    "\n",
    "### Step 1: Define the Hypotheses\n",
    "\n",
    "We want to test the following hypotheses for each of the independent variables:\n",
    "\n",
    "- **Null Hypothesis (H₀)**: The coefficient of each variable is zero (i.e., it has no effect on attendance).\n",
    "  - $H_0: \\beta_{device\\_count} = 0 $\n",
    "  - $H_0: \\beta_{age} = 0 $\n",
    "  - $H_0: \\beta_{pre\\_score} = 0$\n",
    "\n",
    "- **Alternative Hypothesis (H₁)**: The coefficient of each variable is non-zero (i.e., it significantly affects attendance).\n",
    "  - $H_1: \\beta_{device\\_count} \\neq 0 $\n",
    "  - $H_1: \\beta_{age} \\neq 0 $\n",
    "  - $H_1: \\beta_{pre\\_score} \\neq 0$\n",
    "\n",
    "### Step 2: Fit the Model and Perform Hypothesis Testing\n",
    "\n",
    "You can use **`statsmodels`** to fit an OLS regression model and perform hypothesis testing on the coefficients. Here's an example using Python:"
   ]
  },
  {
   "cell_type": "code",
   "execution_count": 50,
   "metadata": {},
   "outputs": [
    {
     "name": "stdout",
     "output_type": "stream",
     "text": [
      "                            OLS Regression Results                            \n",
      "==============================================================================\n",
      "Dep. Variable:             attendance   R-squared:                       0.060\n",
      "Model:                            OLS   Adj. R-squared:                  0.031\n",
      "Method:                 Least Squares   F-statistic:                     2.059\n",
      "Date:                Sun, 08 Dec 2024   Prob (F-statistic):              0.111\n",
      "Time:                        23:24:36   Log-Likelihood:                -485.51\n",
      "No. Observations:                 100   AIC:                             979.0\n",
      "Df Residuals:                      96   BIC:                             989.4\n",
      "Df Model:                           3                                         \n",
      "Covariance Type:            nonrobust                                         \n",
      "================================================================================\n",
      "                   coef    std err          t      P>|t|      [0.025      0.975]\n",
      "--------------------------------------------------------------------------------\n",
      "const           30.0279     21.249      1.413      0.161     -12.151      72.207\n",
      "device_count     4.0499      6.662      0.608      0.545      -9.175      17.275\n",
      "age              1.3638      0.550      2.478      0.015       0.271       2.456\n",
      "pre_score        0.7472      3.175      0.235      0.814      -5.556       7.050\n",
      "==============================================================================\n",
      "Omnibus:                       17.140   Durbin-Watson:                   2.092\n",
      "Prob(Omnibus):                  0.000   Jarque-Bera (JB):               21.446\n",
      "Skew:                          -1.134   Prob(JB):                     2.20e-05\n",
      "Kurtosis:                       2.984   Cond. No.                         208.\n",
      "==============================================================================\n",
      "\n",
      "Notes:\n",
      "[1] Standard Errors assume that the covariance matrix of the errors is correctly specified.\n"
     ]
    }
   ],
   "source": [
    "import statsmodels.api as sm\n",
    "import pandas as pd\n",
    "\n",
    "X = df_model[['device_count', 'age', 'pre_score']].copy()\n",
    "X = sm.add_constant(X)  \n",
    "y = df_model['attendance']\n",
    "\n",
    "model = sm.OLS(y, X).fit()\n",
    "print(model.summary())"
   ]
  },
  {
   "cell_type": "markdown",
   "metadata": {},
   "source": [
    "\n",
    "### Step 3: Interpreting the Results\n",
    "By performing hypothesis testing using statsmodels, you can assess the statistical significance of the relationships between each of the independent variables (device_count, age, pre_score) and the dependent variable (attendance). In this case, based on the p-values, you can conclude that device_count, age, and pre_score all do not have significant effects on attendance, assuming you set the significance level to 0.05."
   ]
  }
 ],
 "metadata": {
  "kernelspec": {
   "display_name": ".venv",
   "language": "python",
   "name": "python3"
  },
  "language_info": {
   "codemirror_mode": {
    "name": "ipython",
    "version": 3
   },
   "file_extension": ".py",
   "mimetype": "text/x-python",
   "name": "python",
   "nbconvert_exporter": "python",
   "pygments_lexer": "ipython3",
   "version": "3.12.2"
  }
 },
 "nbformat": 4,
 "nbformat_minor": 2
}
